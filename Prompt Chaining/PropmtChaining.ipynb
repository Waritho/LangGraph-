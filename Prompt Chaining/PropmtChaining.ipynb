{
 "cells": [
  {
   "cell_type": "code",
   "execution_count": null,
   "id": "45ec9c2b",
   "metadata": {},
   "outputs": [],
   "source": [
    "from langgraph.graph import StateGraph , START, END\n",
    "from langchain_openai import ChatOpenAI\n",
    "from typing import TypedDict\n",
    "from dotenv import load_dotenv \n",
    "import os"
   ]
  },
  {
   "cell_type": "code",
   "execution_count": null,
   "id": "a835f282",
   "metadata": {},
   "outputs": [],
   "source": [
    "load_dotenv()  # take environment variables from .env\n",
    "\n",
    "llm = ChatOpenAI(\n",
    "    model=\"gpt-4o-mini\",                # ✅ just the plain name\n",
    "    api_key=os.getenv(\"OPENROUTER_API_KEY\"),\n",
    "    base_url=\"https://openrouter.ai/api/v1\"\n",
    ")"
   ]
  },
  {
   "cell_type": "code",
   "execution_count": null,
   "id": "f4631931",
   "metadata": {},
   "outputs": [],
   "source": [
    "class BlogState(TypedDict):\n",
    "    topic: str\n",
    "    outline: str\n",
    "    blog_content : str\n",
    "    evaluation : str"
   ]
  },
  {
   "cell_type": "code",
   "execution_count": 46,
   "id": "870e5763",
   "metadata": {},
   "outputs": [],
   "source": [
    "def genetare_outline(state: BlogState) -> BlogState:\n",
    "\n",
    "    # extract the topic from state\n",
    "    topic = state['topic']\n",
    "\n",
    "    # call llm and generate outline\n",
    "    prompt = f\"Generate a detailed outline for a blog post about {topic}.\"\n",
    "\n",
    "    # get the response from llm\n",
    "    outline = llm.invoke(prompt).content\n",
    "\n",
    "    # update the state with the outline\n",
    "    state['outline'] = outline\n",
    "\n",
    "    return state\n"
   ]
  },
  {
   "cell_type": "code",
   "execution_count": null,
   "id": "9b06f147",
   "metadata": {},
   "outputs": [],
   "source": [
    "def create_blog_content(state: BlogState) -> BlogState:\n",
    "\n",
    "    # extract the outline from state , joo bhi chahiye hoga hrr cheez ko lana pdega hrr function me \n",
    "    topic = state['topic']\n",
    "    outline = state['outline']\n",
    "\n",
    "    # call llm and generate blog content\n",
    "    prompt = f\"Write a detailed blog post based on the - {topic} following outline:\\n{outline}\"\n",
    "\n",
    "    # get the response from llm\n",
    "    blog_content = llm.invoke(prompt).content\n",
    "\n",
    "    # update the state with the blog content\n",
    "    state['blog_content'] = blog_content\n",
    "\n",
    "    return state"
   ]
  },
  {
   "cell_type": "code",
   "execution_count": null,
   "id": "1f8217fd",
   "metadata": {},
   "outputs": [],
   "source": [
    "def evaluation(state: BlogState) -> BlogState:\n",
    "    blog_content = state['blog_content']\n",
    "\n",
    "    prompt = f\"Evaluate the following blog content for clarity, coherence, and engagement:\\n{blog_content}\\nProvide constructive feedback and suggestions for improvement.\"\n",
    "\n",
    "    evaluation = llm.invoke(prompt).content\n",
    "\n",
    "    state['evaluation'] = evaluation\n",
    "\n",
    "    return state"
   ]
  },
  {
   "cell_type": "code",
   "execution_count": null,
   "id": "bdf4535e",
   "metadata": {},
   "outputs": [],
   "source": [
    "# create graph\n",
    "\n",
    "graph = StateGraph(BlogState)\n",
    "\n",
    "# add nodes\n",
    "graph.add_node('genetare_outline', genetare_outline)\n",
    "graph.add_node(\"create_blog_content\", create_blog_content)\n",
    "graph.add_node('evaluation' , evaluation)\n",
    "\n",
    "#add edges\n",
    "graph.add_edge(START, 'genetare_outline')\n",
    "graph.add_edge('genetare_outline', 'create_blog_content')\n",
    "graph.add_edge('create_blog_content', 'evaluation')\n",
    "graph.add_edge('evaluation', END)\n",
    "\n",
    "# compile\n",
    "workflow = graph.compile()"
   ]
  },
  {
   "cell_type": "code",
   "execution_count": null,
   "id": "23e3ba26",
   "metadata": {},
   "outputs": [],
   "source": [
    "# execute the graph\n",
    "initial_state = {'topic': \"The impact of artificial intelligence on modern healthcare\"}\n",
    "\n",
    "final_state = workflow.invoke(initial_state)\n",
    "\n",
    "print(final_state) # sabkuch print krdega dict me jo bhi hoga -> topic , outlineb , blog_content"
   ]
  },
  {
   "cell_type": "code",
   "execution_count": null,
   "id": "2b3066d8",
   "metadata": {},
   "outputs": [],
   "source": [
    "print(final_state['outline']) #aise outline add krne se humko sirf answer dikhega"
   ]
  },
  {
   "cell_type": "code",
   "execution_count": null,
   "id": "9961f4cb",
   "metadata": {},
   "outputs": [],
   "source": [
    "print(final_state['blog_content']) #aise blog_content add krne se humko sirf answer dikhega"
   ]
  },
  {
   "cell_type": "code",
   "execution_count": null,
   "id": "1b51a7cd",
   "metadata": {},
   "outputs": [],
   "source": [
    "print(final_state['evaluation']) #aise asnwer add krne se humko sirf answer dikhega"
   ]
  },
  {
   "cell_type": "code",
   "execution_count": null,
   "id": "0cf6a223",
   "metadata": {},
   "outputs": [],
   "source": [
    "from IPython.display import Image\n",
    "Image(workflow.get_graph().draw_mermaid_png())"
   ]
  }
 ],
 "metadata": {
  "kernelspec": {
   "display_name": "myenv",
   "language": "python",
   "name": "python3"
  },
  "language_info": {
   "codemirror_mode": {
    "name": "ipython",
    "version": 3
   },
   "file_extension": ".py",
   "mimetype": "text/x-python",
   "name": "python",
   "nbconvert_exporter": "python",
   "pygments_lexer": "ipython3",
   "version": "3.13.3"
  }
 },
 "nbformat": 4,
 "nbformat_minor": 5
}
