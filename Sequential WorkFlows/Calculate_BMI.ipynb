{
 "cells": [
  {
   "cell_type": "code",
   "execution_count": 1,
   "id": "fa7a2eb2",
   "metadata": {},
   "outputs": [],
   "source": [
    "from langgraph.graph import StateGraph , START , END\n",
    "from typing import TypedDict"
   ]
  },
  {
   "cell_type": "code",
   "execution_count": 2,
   "id": "236e5005",
   "metadata": {},
   "outputs": [],
   "source": [
    "# Define State\n",
    "class BMIState(TypedDict):\n",
    "    height: float  # in meters variable\n",
    "    weight: float  # in kilograms variable\n",
    "    bmi: float     # Body Mass Index variable\n",
    "    category: str  # BMI Category variable"
   ]
  },
  {
   "cell_type": "code",
   "execution_count": 3,
   "id": "eaa89897",
   "metadata": {},
   "outputs": [],
   "source": [
    "def calculate_bmi(state: BMIState) -> BMIState:\n",
    "    weight = state['weight'] # extracting values from state dictionary\n",
    "    height = state['height'] # extracting values from state dictionary\n",
    "\n",
    "    bmi = weight / (height ** 2)\n",
    "\n",
    "    state['bmi'] = round(bmi , 2) # adding new key-value pair to state dictionary as Bmi where bmi will hold the calculated value\n",
    "    return state \n",
    "\n"
   ]
  },
  {
   "cell_type": "code",
   "execution_count": 4,
   "id": "e0538eb5",
   "metadata": {},
   "outputs": [],
   "source": [
    "def lable_bmi(state: BMIState) -> BMIState:\n",
    "    bmi = state['bmi'] # extracting values from state dictionary\n",
    "\n",
    "    if bmi < 18.5:\n",
    "        category = 'Underweight'\n",
    "    elif 18.5 <= bmi < 24.9:\n",
    "        category = 'Normal weight'\n",
    "    elif 25 <= bmi < 29.9:\n",
    "        category = 'Overweight'\n",
    "    else:\n",
    "        category = 'Obesity'\n",
    "\n",
    "    state['category'] = category\n",
    "    return state"
   ]
  },
  {
   "cell_type": "code",
   "execution_count": 5,
   "id": "6504fa1d",
   "metadata": {},
   "outputs": [],
   "source": [
    "# Define your graph\n",
    "graph = StateGraph(BMIState)\n",
    "\n",
    "# Define your nodes\n",
    "graph.add_node('calculate_bmi' , calculate_bmi)  # calculate_bmi is a node and calculate_bmi is a function, bascically every node is a function\n",
    "graph.add_node('lable_bmi', lable_bmi)  \n",
    "# Add Edges to the graph\n",
    "graph.add_edge(START , 'calculate_bmi')\n",
    "graph.add_edge('calculate_bmi' , 'lable_bmi')\n",
    "graph.add_edge('lable_bmi' , END) \n",
    "\n",
    "# Compile the graph\n",
    "workflow = graph.compile()\n"
   ]
  },
  {
   "cell_type": "code",
   "execution_count": 8,
   "id": "b2f2a982",
   "metadata": {},
   "outputs": [
    {
     "name": "stdout",
     "output_type": "stream",
     "text": [
      "{'height': 1.75, 'weight': 48, 'bmi': 15.67, 'category': 'Underweight'}\n"
     ]
    }
   ],
   "source": [
    "# execute the graph\n",
    "initial_state = {'weight': 48, 'height': 1.75}\n",
    "\n",
    "final_state = workflow.invoke(initial_state)\n",
    "\n",
    "print(final_state)  # Should include the calculated BMI\n"
   ]
  },
  {
   "cell_type": "code",
   "execution_count": 7,
   "id": "983619b1",
   "metadata": {},
   "outputs": [
    {
     "data": {
      "image/png": "[encoded data removed]",
      "text/plain": [
       "<IPython.core.display.Image object>"
      ]
     },
     "execution_count": 7,
     "metadata": {},
     "output_type": "execute_result"
    }
   ],
   "source": [
    "from IPython.display import Image\n",
    "Image(workflow.get_graph().draw_mermaid_png())"
   ]
  },
  {
   "cell_type": "code",
   "execution_count": null,
   "id": "4e6a0e17",
   "metadata": {},
   "outputs": [],
   "source": []
  }
 ],
 "metadata": {
  "kernelspec": {
   "display_name": "myenv",
   "language": "python",
   "name": "python3"
  },
  "language_info": {
   "codemirror_mode": {
    "name": "ipython",
    "version": 3
   },
   "file_extension": ".py",
   "mimetype": "text/x-python",
   "name": "python",
   "nbconvert_exporter": "python",
   "pygments_lexer": "ipython3",
   "version": "3.13.3"
  }
 },
 "nbformat": 4,
 "nbformat_minor": 5
}
