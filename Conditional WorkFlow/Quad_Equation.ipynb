{
 "cells": [
  {
   "cell_type": "code",
   "execution_count": 13,
   "id": "316f607c",
   "metadata": {},
   "outputs": [],
   "source": [
    "from langgraph.graph import StateGraph , START, END\n",
    "from langchain_openai import ChatOpenAI\n",
    "from typing import TypedDict , Annotated , Literal\n",
    "from dotenv import load_dotenv \n",
    "from pydantic import BaseModel, Field\n",
    "import os\n",
    "import operator"
   ]
  },
  {
   "cell_type": "code",
   "execution_count": 2,
   "id": "bf60cf94",
   "metadata": {},
   "outputs": [],
   "source": [
    "class QuadState(TypedDict):\n",
    "    a : int\n",
    "    b : int \n",
    "    c : int\n",
    "\n",
    "    equation : str\n",
    "    discriminant : float\n",
    "    result : str"
   ]
  },
  {
   "cell_type": "code",
   "execution_count": 10,
   "id": "9ed8d1c8",
   "metadata": {},
   "outputs": [],
   "source": [
    "def show_equation(state : QuadState) -> QuadState:\n",
    "    a = state['a']\n",
    "    b = state['b']\n",
    "    c = state['c']\n",
    "    equation = f\"The quadratic equation is: {a}x^2 + {b}x + {c} = 0\"\n",
    "    return {'equation': equation}\n",
    "\n",
    "def calc_discriminant(state : QuadState) -> QuadState:\n",
    "    a = state['a']\n",
    "    b = state['b']\n",
    "    c = state['c']\n",
    "    D = b**2 - 4*a*c\n",
    "    return {'discriminant': D}\n",
    "\n",
    "def real_roots(state : QuadState) -> QuadState:\n",
    "    a = state['a']\n",
    "    b = state['b']\n",
    "    D = state['discriminant']\n",
    "    root1 = (-b + D**0.5) / (2*a)\n",
    "    root2 = (-b - D**0.5) / (2*a)\n",
    "    result = f\"The equation has two real roots: {root1} and {root2}\"\n",
    "    return {'result': result}\n",
    "\n",
    "def repeated_roots(state : QuadState) -> QuadState:\n",
    "    a = state['a']\n",
    "    b = state['b']\n",
    "    root = -b / (2*a)\n",
    "    result = f\"The equation has one repeated real root: {root}\"\n",
    "    return {'result': result}\n",
    "\n",
    "def no_real_roots(state : QuadState) -> QuadState:\n",
    "    result = \"The equation has no real roots.\"\n",
    "    return {'result': result}\n"
   ]
  },
  {
   "cell_type": "code",
   "execution_count": 14,
   "id": "ac4ab76a",
   "metadata": {},
   "outputs": [],
   "source": [
    "def check_condition(state : QuadState) -> Literal[\"real_roots\", \"repeated_roots\", \"no_real_roots\"]:\n",
    "    D = state['discriminant']\n",
    "    if D > 0:\n",
    "        return 'real_roots'\n",
    "    elif D == 0:\n",
    "        return 'repeated_roots'\n",
    "    else:\n",
    "        return 'no_real_roots'"
   ]
  },
  {
   "cell_type": "code",
   "execution_count": 19,
   "id": "30c62d1c",
   "metadata": {},
   "outputs": [],
   "source": [
    "graph = StateGraph(QuadState)\n",
    "\n",
    "graph.add_node('show_equation',show_equation)\n",
    "graph.add_node('calc_discriminant',calc_discriminant)\n",
    "graph.add_node('real_roots',real_roots)\n",
    "graph.add_node('repeated_roots',repeated_roots)\n",
    "graph.add_node('no_real_roots',no_real_roots)\n",
    "\n",
    "\n",
    "graph.add_edge(START,'show_equation')\n",
    "graph.add_edge('show_equation','calc_discriminant')\n",
    "graph.add_conditional_edges('calc_discriminant',check_condition)\n",
    "graph.add_edge('real_roots',END)\n",
    "graph.add_edge('repeated_roots',END)\n",
    "graph.add_edge('no_real_roots',END)\n",
    "\n",
    "workflow = graph.compile()\n"
   ]
  },
  {
   "cell_type": "code",
   "execution_count": 24,
   "id": "ff1ce57b",
   "metadata": {},
   "outputs": [
    {
     "name": "stdout",
     "output_type": "stream",
     "text": [
      "{'a': 2, 'b': 4, 'c': 2, 'equation': 'The quadratic equation is: 2x^2 + 4x + 2 = 0', 'discriminant': 0, 'result': 'The equation has one repeated real root: -1.0'}\n"
     ]
    }
   ],
   "source": [
    "initial_state = {'a': 2, 'b': 4, 'c': 2}\n",
    "\n",
    "final_state = workflow.invoke(initial_state)\n",
    "print(final_state)"
   ]
  },
  {
   "cell_type": "code",
   "execution_count": 20,
   "id": "fe0aa922",
   "metadata": {},
   "outputs": [
    {
     "data": {
      "image/png": "[encoded data removed]",
      "text/plain": [
       "<langgraph.graph.state.CompiledStateGraph object at 0x000001CDEF211810>"
      ]
     },
     "execution_count": 20,
     "metadata": {},
     "output_type": "execute_result"
    }
   ],
   "source": [
    "workflow"
   ]
  },
  {
   "cell_type": "code",
   "execution_count": null,
   "id": "a78817fe",
   "metadata": {},
   "outputs": [],
   "source": []
  }
 ],
 "metadata": {
  "kernelspec": {
   "display_name": "myenv",
   "language": "python",
   "name": "python3"
  },
  "language_info": {
   "codemirror_mode": {
    "name": "ipython",
    "version": 3
   },
   "file_extension": ".py",
   "mimetype": "text/x-python",
   "name": "python",
   "nbconvert_exporter": "python",
   "pygments_lexer": "ipython3",
   "version": "3.13.3"
  }
 },
 "nbformat": 4,
 "nbformat_minor": 5
}
