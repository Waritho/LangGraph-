{
 "cells": [
  {
   "cell_type": "code",
   "execution_count": 2,
   "id": "21a0fb77",
   "metadata": {},
   "outputs": [],
   "source": [
    "from langgraph.graph import StateGraph , START, END\n",
    "from langchain_openai import ChatOpenAI\n",
    "from typing import TypedDict , Annotated , Literal\n",
    "from dotenv import load_dotenv \n",
    "from pydantic import BaseModel, Field\n",
    "import os\n",
    "import operator"
   ]
  },
  {
   "cell_type": "code",
   "execution_count": 3,
   "id": "43a6c470",
   "metadata": {},
   "outputs": [],
   "source": [
    "load_dotenv()\n",
    "\n",
    "llm = ChatOpenAI(\n",
    "    model=\"gpt-4o-mini\",                # ✅ just the plain name\n",
    "    api_key=os.getenv(\"OPENROUTER_API_KEY\"),\n",
    "    base_url=\"https://openrouter.ai/api/v1\"\n",
    ")"
   ]
  },
  {
   "cell_type": "code",
   "execution_count": 4,
   "id": "3708ef6c",
   "metadata": {},
   "outputs": [],
   "source": [
    "class CategorySchema(BaseModel):\n",
    "    category : Literal ['complaint','question','thank_you'] = Field(description=\"Category of the Email\")\n",
    "\n",
    "class ComplaintSchema(BaseModel):\n",
    "    issue_type : Literal['shipping','billing','product','other'] = Field(description=\"Type of complaint\")\n"
   ]
  },
  {
   "cell_type": "code",
   "execution_count": 5,
   "id": "1dfa2ee5",
   "metadata": {},
   "outputs": [],
   "source": [
    "Structured_llm = llm.with_structured_output(CategorySchema)\n",
    "\n",
    "Structured_llm_2 = llm.with_structured_output(ComplaintSchema)"
   ]
  },
  {
   "cell_type": "code",
   "execution_count": 6,
   "id": "87dcae67",
   "metadata": {},
   "outputs": [],
   "source": [
    "class EmailState(TypedDict):\n",
    "    email : str\n",
    "    category : str\n",
    "    diagnose : dict\n",
    "    response : str"
   ]
  },
  {
   "cell_type": "code",
   "execution_count": 7,
   "id": "5c67c0c4",
   "metadata": {},
   "outputs": [],
   "source": [
    "def CategorizeEmail(state: EmailState) -> EmailState:\n",
    "    email = state['email']\n",
    "    prompt = f\"\"\"\n",
    "    Categorize the following email into exactly one of these categories:\n",
    "\n",
    "    - \"complaint\": if the customer is unhappy, reporting a problem, or expressing dissatisfaction.\n",
    "    - \"question\": if the customer is asking for information but is not clearly unhappy.\n",
    "    - \"thank_you\": if the customer is giving positive feedback, praise, or thanks.\n",
    "\n",
    "    Email: {email}\n",
    "    \"\"\"\n",
    "    result = Structured_llm.invoke(prompt)\n",
    "    return {\"category\": result.category}\n",
    "\n",
    "def check_category(state : EmailState) -> Literal['complaint_dignosis','question','thankyou']:\n",
    "    if state[\"category\"] == \"thankyou\":\n",
    "        return \"thankyou\"\n",
    "    elif state[\"category\"] == \"question\":\n",
    "        return \"question\"\n",
    "    else:\n",
    "        return 'complaint_dignosis'\n",
    "    \n",
    "def thankyou(state: EmailState):\n",
    "    response = llm.invoke(f\"Write a polite thank-you reply for this message: {state['email']}\").content\n",
    "    return {'response' : response}\n",
    "\n",
    "def question(state : EmailState):\n",
    "    response = llm.invoke(f\"Answer this customer question clearly: {state['email']}\").content\n",
    "    return {'response' : response}\n",
    "\n",
    "def complaint_dignosis(state : EmailState):\n",
    "    email = state['email']\n",
    "    prompt = f\"\"\"\n",
    "    Classify this complaint into one of: shipping, billing, product, other.\n",
    "\n",
    "    - \"shipping\": delays, missing packages, tracking problems, delivery issues.\n",
    "    - \"billing\": wrong charges, refunds, invoices, payment issues.\n",
    "    - \"product\": broken items, defects, wrong size, performance problems.\n",
    "    - \"other\": anything else.\n",
    "\n",
    "    Complaint: {email}\n",
    "    \"\"\"\n",
    "    result = Structured_llm_2.invoke(prompt)\n",
    "    return {\"diagnose\": result.model_dump()}\n",
    "\n",
    "def compliant_response(state : EmailState):\n",
    "    response = llm.invoke(f\"Write an apology and helpful response to this {state['diagnose']['issue_type']} complaint:\\n{state['email']}\").content\n",
    "    return {'response' : response}\n",
    "\n"
   ]
  },
  {
   "cell_type": "code",
   "execution_count": 8,
   "id": "30d9d4e2",
   "metadata": {},
   "outputs": [],
   "source": [
    "graph = StateGraph(EmailState)\n",
    "\n",
    "graph.add_node('CategorizeEmail' , CategorizeEmail)\n",
    "graph.add_node('thankyou' , thankyou)\n",
    "graph.add_node('question' , question)\n",
    "graph.add_node('complaint_dignosis' , complaint_dignosis)\n",
    "graph.add_node('compliant_response',compliant_response)\n",
    "\n",
    "graph.add_edge(START , 'CategorizeEmail')\n",
    "graph.add_conditional_edges('CategorizeEmail' , check_category)\n",
    "graph.add_edge('thankyou' , END)\n",
    "graph.add_edge('question' , END)\n",
    "graph.add_edge('complaint_dignosis' , 'compliant_response')\n",
    "graph.add_edge('compliant_response' , END)\n",
    "\n",
    "workflow = graph.compile()\n",
    "\n",
    "\n"
   ]
  },
  {
   "cell_type": "code",
   "execution_count": 9,
   "id": "376ef7ef",
   "metadata": {},
   "outputs": [
    {
     "data": {
      "text/plain": [
       "{'email': 'Thank you for the quick delivery! I really appreciate your service.',\n",
       " 'category': 'thank_you',\n",
       " 'diagnose': {'issue_type': 'other'},\n",
       " 'response': \"Subject: Thank You for Your Feedback!\\n\\nDear [Customer's Name],\\n\\nThank you for your kind words! We truly appreciate your positive feedback regarding our delivery service. It's wonderful to hear that you received your order quickly.\\n\\nIf there’s anything else we can assist you with or if you have any further concerns, please don't hesitate to reach out. We're here to help and ensure your experience with us is always a great one.\\n\\nThank you once again for choosing us!\\n\\nBest regards,  \\n[Your Name]  \\n[Your Position]  \\n[Your Company]  \\n[Contact Information]  \"}"
      ]
     },
     "execution_count": 9,
     "metadata": {},
     "output_type": "execute_result"
    }
   ],
   "source": [
    "initial_state = {\n",
    "    \"email\": \"Thank you for the quick delivery! I really appreciate your service.\"\n",
    "}\n",
    "\n",
    "\n",
    "workflow.invoke(initial_state)"
   ]
  },
  {
   "cell_type": "code",
   "execution_count": 10,
   "id": "86ef4c9e",
   "metadata": {},
   "outputs": [
    {
     "data": {
      "image/png": "[encoded data removed]",
      "text/plain": [
       "<langgraph.graph.state.CompiledStateGraph object at 0x00000230FC3EF620>"
      ]
     },
     "execution_count": 10,
     "metadata": {},
     "output_type": "execute_result"
    }
   ],
   "source": [
    "workflow"
   ]
  },
  {
   "cell_type": "code",
   "execution_count": null,
   "id": "a2d43036",
   "metadata": {},
   "outputs": [],
   "source": []
  }
 ],
 "metadata": {
  "kernelspec": {
   "display_name": "myenv",
   "language": "python",
   "name": "python3"
  },
  "language_info": {
   "codemirror_mode": {
    "name": "ipython",
    "version": 3
   },
   "file_extension": ".py",
   "mimetype": "text/x-python",
   "name": "python",
   "nbconvert_exporter": "python",
   "pygments_lexer": "ipython3",
   "version": "3.13.3"
  }
 },
 "nbformat": 4,
 "nbformat_minor": 5
}
