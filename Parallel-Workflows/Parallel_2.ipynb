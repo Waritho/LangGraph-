{
 "cells": [
  {
   "cell_type": "code",
   "execution_count": null,
   "id": "c02bb30a",
   "metadata": {},
   "outputs": [],
   "source": [
    "from langgraph.graph import StateGraph , START, END\n",
    "from langchain_openai import ChatOpenAI\n",
    "from typing import TypedDict , Annotated\n",
    "from dotenv import load_dotenv \n",
    "from pydantic import BaseModel, Field\n",
    "import os\n",
    "import operator"
   ]
  },
  {
   "cell_type": "code",
   "execution_count": null,
   "id": "f57cc853",
   "metadata": {},
   "outputs": [],
   "source": [
    "load_dotenv()  # take environment variables from .env\n",
    "\n",
    "llm = ChatOpenAI(\n",
    "    model=\"gpt-4o-mini\",                # ✅ just the plain name\n",
    "    api_key=os.getenv(\"OPENROUTER_API_KEY\"),\n",
    "    base_url=\"https://openrouter.ai/api/v1\"\n",
    ")"
   ]
  },
  {
   "cell_type": "code",
   "execution_count": null,
   "id": "8e2d49b2",
   "metadata": {},
   "outputs": [],
   "source": [
    "class EvaluationSchema(BaseModel):\n",
    "    score: int = Field(..., description=\"Score from 1 to 10\" , ge=0 , le=10)\n",
    "    feedback: str = Field(..., description=\"Detailed feedback for the essay\")"
   ]
  },
  {
   "cell_type": "code",
   "execution_count": null,
   "id": "7c7339bf",
   "metadata": {},
   "outputs": [],
   "source": [
    "structured_model = llm.with_structured_output(EvaluationSchema)"
   ]
  },
  {
   "cell_type": "code",
   "execution_count": null,
   "id": "e3191738",
   "metadata": {},
   "outputs": [],
   "source": [
    "class UPSCState(TypedDict):\n",
    "    essay: str\n",
    "    language_feedback: str\n",
    "    clarity_feedback: str\n",
    "    analysis_feedback: str\n",
    "    overall_feedback: str\n",
    "    individual_scores: Annotated[list[int],operator.add]\n",
    "    avg_score: float"
   ]
  },
  {
   "cell_type": "code",
   "execution_count": null,
   "id": "7e423069",
   "metadata": {},
   "outputs": [],
   "source": [
    "def evaluate_language(state: UPSCState) -> UPSCState:\n",
    "    prompt = f\"Evaluate the following essay for language quality, grammar, and vocabulary:\\n\\n{state['essay']}\\n\\nProvide a score from 1 to 10 and detailed feedback.\"\n",
    "    result = structured_model.invoke(prompt)\n",
    "\n",
    "    return {'language_feedback': result.feedback , 'individual_scores': [result.score]}"
   ]
  },
  {
   "cell_type": "code",
   "execution_count": null,
   "id": "15c763c4",
   "metadata": {},
   "outputs": [],
   "source": [
    "def evaluate_analysis(state: UPSCState) -> UPSCState:\n",
    "    prompt = f\"Evaluate the following essay for depth of analysis, argument strength, and evidence:\\n\\n{state['essay']}\\n\\nProvide a score from 1 to 10 and detailed feedback.\"\n",
    "    result = structured_model.invoke(prompt)\n",
    "\n",
    "    return {'analysis_feedback': result.feedback , 'individual_scores': [result.score]}"
   ]
  },
  {
   "cell_type": "code",
   "execution_count": null,
   "id": "a59de3a9",
   "metadata": {},
   "outputs": [],
   "source": [
    "def evaluate_clarity(state: UPSCState) -> UPSCState:\n",
    "    prompt = f\"Evaluate the following essay for clarity, coherence, and structure:\\n\\n{state['essay']}\\n\\nProvide a score from 1 to 10 and detailed feedback.\"\n",
    "    result = structured_model.invoke(prompt)\n",
    "\n",
    "    return {'clarity_feedback': result.feedback , 'individual_scores': [result.score]}"
   ]
  },
  {
   "cell_type": "code",
   "execution_count": null,
   "id": "be31ae26",
   "metadata": {},
   "outputs": [],
   "source": [
    "def final_evaluation(state: UPSCState) -> UPSCState:\n",
    "    prompt = f\"Based on the following feedbacks:\\n\\nLanguage Feedback: {state['language_feedback']}\\nClarity Feedback: {state['clarity_feedback']}\\nAnalysis Feedback: {state['analysis_feedback']}\\n\\nProvide an overall evaluation of the essay, summarizing strengths and areas for improvement.\"\n",
    "    overall_feedback = llm.invoke(prompt).content\n",
    "    avg_score = sum(state['individual_scores']) / len(state['individual_scores'])\n",
    "\n",
    "    return {'overall_feedback': overall_feedback , 'avg_score': avg_score}"
   ]
  },
  {
   "cell_type": "code",
   "execution_count": null,
   "id": "503e61bb",
   "metadata": {},
   "outputs": [],
   "source": [
    "graph = StateGraph(UPSCState)\n",
    "graph.add_node('evaluate_language', evaluate_language)\n",
    "graph.add_node('evaluate_analysis', evaluate_analysis)\n",
    "graph.add_node('evaluate_clarity', evaluate_clarity)\n",
    "graph.add_node('final_evaluation', final_evaluation)\n",
    "\n",
    "graph.add_edge(START, 'evaluate_language')\n",
    "graph.add_edge(START, 'evaluate_analysis') \n",
    "graph.add_edge(START, 'evaluate_clarity')\n",
    "\n",
    "graph.add_edge('evaluate_language', 'final_evaluation')\n",
    "graph.add_edge('evaluate_analysis', 'final_evaluation')\n",
    "graph.add_edge('evaluate_clarity', 'final_evaluation')\n",
    "\n",
    "graph.add_edge('final_evaluation', END)\n",
    "\n",
    "workflow = graph.compile()"
   ]
  },
  {
   "cell_type": "code",
   "execution_count": null,
   "id": "c16d28ae",
   "metadata": {},
   "outputs": [],
   "source": [
    "initial_state = {\n",
    "    'essay' : \"\"\"climate change is a big problam in the world today and its making everything worst then before. People always saying that it not real but it definetly is real becaus the weather is acting very strange and crazy in many country. Sometime it rain too much and sometime no rain at all for long time and farmer can not grow crops proper. This is danger for food secuirty but still many goverments dont care or just ignore until is too late.\n",
    "\n",
    "Also animal suffer a lot from this changes, like polar bears who dont have no ice to live on and they starve hungry. And birds dont know when to migrate cause the season mix up, spring come late but also early sometimes. Its confusing. Human people also feel it, like heatwave kill many persons in city, and old people and babys get sick more. The sea level also is rising, and some island might be disappear under water completly, imagine that happen to ur home!\n",
    "\n",
    "People say solution is planting trees or make solar panel but not enuff action is doing. Big companys pollute much and then pretend like nothing is wrong. Politician make meeting and talking talking but very less happen. Some rich country blame poor country and poor blame rich, so round and round circle, no real fix come. If we keep like this then future generation gonna hate us becaus we leave them broken planet.\n",
    "\n",
    "So climate change is real and very danger, it need urgent action immediatly. People need to think about planet not just money money money. If not, the earth will be more hot and bad and no one can survive good.\"\"\"}\n",
    "\n",
    "result = workflow.invoke(initial_state)\n",
    "\n",
    "print(f\"Individual Score : {result['individual_scores']}\")\n",
    "print(f\"Average Score : {result['avg_score']}\")\n",
    "print(f\"Overall Feedback : {result['overall_feedback']}\")\n",
    "\n"
   ]
  },
  {
   "cell_type": "code",
   "execution_count": null,
   "id": "d9c71774",
   "metadata": {},
   "outputs": [],
   "source": [
    "workflow"
   ]
  }
 ],
 "metadata": {
  "kernelspec": {
   "display_name": "myenv",
   "language": "python",
   "name": "python3"
  },
  "language_info": {
   "codemirror_mode": {
    "name": "ipython",
    "version": 3
   },
   "file_extension": ".py",
   "mimetype": "text/x-python",
   "name": "python",
   "nbconvert_exporter": "python",
   "pygments_lexer": "ipython3",
   "version": "3.13.3"
  }
 },
 "nbformat": 4,
 "nbformat_minor": 5
}
